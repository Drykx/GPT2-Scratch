{
 "cells": [
  {
   "cell_type": "code",
   "execution_count": 1,
   "id": "cb20e60e",
   "metadata": {},
   "outputs": [
    {
     "name": "stderr",
     "output_type": "stream",
     "text": [
      "c:\\Users\\jean-\\OneDrive\\Bureau\\Projects\\Personnal\\GPT2-Scratch\\.venv\\Lib\\site-packages\\tqdm\\auto.py:21: TqdmWarning: IProgress not found. Please update jupyter and ipywidgets. See https://ipywidgets.readthedocs.io/en/stable/user_install.html\n",
      "  from .autonotebook import tqdm as notebook_tqdm\n"
     ]
    }
   ],
   "source": [
    "import numpy\n",
    "import matplotlib\n",
    "import matplotlib.pyplot as plt\n",
    "import wget\n",
    "from datasets import load_dataset\n",
    "\n",
    "import torch \n",
    "import torch.nn as nn \n",
    "from torch.nn import functional as F\n",
    "\n",
    "from GPT.gpt_functions import *\n",
    "from Tokenizer.tokenizer_functions import *\n",
    "\n",
    "torch.manual_seed(42)\n",
    "g = torch.Generator().manual_seed(42)"
   ]
  },
  {
   "cell_type": "markdown",
   "id": "50a3059f",
   "metadata": {},
   "source": [
    "## Lecture 7: Let's build GPT: from scratch, in code, spelled out.\n",
    "\n",
    "In this notebook we implement the simpliest GPT model from scratch and train it on a dataset of French poetry [https://huggingface.co/datasets/manu/french_poetry/viewer]\n",
    "\n",
    "- 1821 poems written by 56 artists (average 32 poems per author) -> Concatenate everything in a big corpus."
   ]
  },
  {
   "cell_type": "code",
   "execution_count": null,
   "id": "78710b5b",
   "metadata": {},
   "outputs": [],
   "source": [
    "# import dataset: French Poetry\n",
    "ds = load_dataset(\"manu/french_poetry\")\n",
    "length = ds[\"train\"].num_rows\n",
    "\n",
    "# Construction Corpus\n",
    "df_text = []\n",
    "for i in range(length):\n",
    "    poem = ds[\"train\"][\"text\"][i]\n",
    "    cleaned_poem = poem_formatting(poem)\n",
    "    df_text.append(cleaned_poem[1]) # add only the poem\n",
    "\n",
    "corpus = \"\".join(df_text)\n",
    "vocab_corpus = sorted(list(set(corpus)))"
   ]
  },
  {
   "cell_type": "code",
   "execution_count": 4,
   "id": "720b5dd5",
   "metadata": {},
   "outputs": [],
   "source": [
    "# Encoder\n",
    "vocab_size = 400\n",
    "tokenizer = BasicTokenizer()\n",
    "tokenizer.train(corpus, vocab_size) # 400 - 256 = 144 merges happpening\n",
    "\n",
    "# Encode data \n",
    "data = torch.tensor(tokenizer.encode(corpus), dtype = torch.long)\n",
    "\n",
    "# Split data\n",
    "n = int(0.9 * len(data))\n",
    "train_data = data[:n]   # 90% training\n",
    "val_data = data[n:]     # 10% evaluation"
   ]
  },
  {
   "cell_type": "code",
   "execution_count": 5,
   "id": "671eeef9",
   "metadata": {},
   "outputs": [
    {
     "name": "stdout",
     "output_type": "stream",
     "text": [
      "The model has a total of 2.11 M parameters.\n"
     ]
    }
   ],
   "source": [
    "# Hyperparameters Model\n",
    "config_GPT = GPTConfig(\n",
    "    vocab_size    = vocab_size,\n",
    "    block_size    = 128,\n",
    "    n_embd        = 200,\n",
    "    n_head        = 4,\n",
    "    n_layer       = 4,\n",
    "    batch_size    = 32,\n",
    "    max_steps     = 1000,\n",
    "    eval_iter     = 100,\n",
    "    eval_interval = 10,\n",
    "    learning_rate = 1e-3,\n",
    "    dropout       = 0.2,\n",
    "    device        ='cuda',\n",
    ")\n",
    "\n",
    "# Model\n",
    "model = GPTLanguageModel(config_GPT).to(config_GPT.device)\n",
    "print(f\"The model has a total of {sum(p.numel() for p in model.parameters())/1e6:.2f} M parameters.\")\n",
    "\n",
    "# Optimizer\n",
    "optimizer = torch.optim.AdamW(model.parameters(), lr = config_GPT.learning_rate)\n"
   ]
  },
  {
   "cell_type": "code",
   "execution_count": 8,
   "id": "108d9ac1",
   "metadata": {},
   "outputs": [],
   "source": [
    "@torch.no_grad()\n",
    "def estimate_loss(config_GPT):\n",
    "    out = {}\n",
    "    model.eval()\n",
    "    for split, data_loss in [(\"train\", train_data), (\"val\", val_data)]:\n",
    "\n",
    "        losses = torch.zeros(config_GPT.eval_iter)\n",
    "        for k in range(config_GPT.eval_iter):\n",
    "            X,Y = get_batch(data_loss,config_GPT.block_size, config_GPT.batch_size, config_GPT.device)\n",
    "            X, Y = X.to(config_GPT.device), Y.to(config_GPT.device)\n",
    "            logits, loss = model(X,Y)\n",
    "            losses[k] = loss.item()        \n",
    "        out[split] = losses.mean().item()\n",
    "    model.train()\n",
    "\n",
    "    return out"
   ]
  },
  {
   "cell_type": "code",
   "execution_count": 9,
   "id": "e7e9379d",
   "metadata": {},
   "outputs": [
    {
     "name": "stdout",
     "output_type": "stream",
     "text": [
      "step 0: train loss 6.0200, val loss 6.0184\n",
      "step 10: train loss 5.0656, val loss 5.0713\n",
      "step 20: train loss 4.9936, val loss 4.9922\n",
      "step 30: train loss 4.9360, val loss 4.9334\n",
      "step 40: train loss 4.7148, val loss 4.7047\n",
      "step 50: train loss 4.5578, val loss 4.5522\n",
      "step 60: train loss 4.3325, val loss 4.3256\n",
      "step 70: train loss 4.1464, val loss 4.1382\n",
      "step 80: train loss 4.0025, val loss 3.9885\n",
      "step 90: train loss 3.9038, val loss 3.8886\n",
      "step 100: train loss 3.8349, val loss 3.8239\n",
      "step 110: train loss 3.7819, val loss 3.7774\n",
      "step 120: train loss 3.7506, val loss 3.7428\n",
      "step 130: train loss 3.7188, val loss 3.7096\n",
      "step 140: train loss 3.6932, val loss 3.6894\n",
      "step 150: train loss 3.6793, val loss 3.6786\n",
      "step 160: train loss 3.6693, val loss 3.6666\n",
      "step 170: train loss 3.6453, val loss 3.6423\n",
      "step 180: train loss 3.6310, val loss 3.6381\n",
      "step 190: train loss 3.6198, val loss 3.6152\n",
      "step 200: train loss 3.6180, val loss 3.6120\n",
      "step 210: train loss 3.6143, val loss 3.6016\n",
      "step 220: train loss 3.5953, val loss 3.5965\n",
      "step 230: train loss 3.5950, val loss 3.5906\n",
      "step 240: train loss 3.5834, val loss 3.5775\n",
      "step 250: train loss 3.5775, val loss 3.5699\n",
      "step 260: train loss 3.5765, val loss 3.5742\n",
      "step 270: train loss 3.5630, val loss 3.5643\n",
      "step 280: train loss 3.5528, val loss 3.5545\n",
      "step 290: train loss 3.5582, val loss 3.5514\n",
      "step 300: train loss 3.5457, val loss 3.5479\n",
      "step 310: train loss 3.5414, val loss 3.5463\n",
      "step 320: train loss 3.5339, val loss 3.5267\n",
      "step 330: train loss 3.5163, val loss 3.5282\n",
      "step 340: train loss 3.5208, val loss 3.5187\n",
      "step 350: train loss 3.5029, val loss 3.5091\n",
      "step 360: train loss 3.4922, val loss 3.4932\n",
      "step 370: train loss 3.4784, val loss 3.4794\n",
      "step 380: train loss 3.4559, val loss 3.4596\n",
      "step 390: train loss 3.4264, val loss 3.4210\n",
      "step 400: train loss 3.4049, val loss 3.4033\n",
      "step 410: train loss 3.3880, val loss 3.3935\n",
      "step 420: train loss 3.3450, val loss 3.3496\n",
      "step 430: train loss 3.3244, val loss 3.3224\n",
      "step 440: train loss 3.2907, val loss 3.2953\n",
      "step 450: train loss 3.2629, val loss 3.2651\n",
      "step 460: train loss 3.2356, val loss 3.2503\n",
      "step 470: train loss 3.2200, val loss 3.2330\n",
      "step 480: train loss 3.2042, val loss 3.2051\n",
      "step 490: train loss 3.1857, val loss 3.1958\n",
      "step 500: train loss 3.1801, val loss 3.1832\n",
      "step 510: train loss 3.1573, val loss 3.1632\n",
      "step 520: train loss 3.1414, val loss 3.1497\n",
      "step 530: train loss 3.1194, val loss 3.1215\n",
      "step 540: train loss 3.1182, val loss 3.1230\n",
      "step 550: train loss 3.1073, val loss 3.1109\n",
      "step 560: train loss 3.0777, val loss 3.0958\n",
      "step 570: train loss 3.0772, val loss 3.0704\n",
      "step 580: train loss 3.0687, val loss 3.0717\n",
      "step 590: train loss 3.0497, val loss 3.0511\n",
      "step 600: train loss 3.0473, val loss 3.0437\n",
      "step 610: train loss 3.0359, val loss 3.0302\n",
      "step 620: train loss 3.0255, val loss 3.0289\n",
      "step 630: train loss 3.0114, val loss 3.0219\n",
      "step 640: train loss 2.9897, val loss 3.0053\n",
      "step 650: train loss 3.0005, val loss 3.0041\n",
      "step 660: train loss 2.9860, val loss 2.9883\n",
      "step 670: train loss 2.9825, val loss 2.9873\n",
      "step 680: train loss 2.9724, val loss 2.9790\n",
      "step 690: train loss 2.9582, val loss 2.9700\n",
      "step 700: train loss 2.9560, val loss 2.9573\n",
      "step 710: train loss 2.9482, val loss 2.9463\n",
      "step 720: train loss 2.9450, val loss 2.9421\n",
      "step 730: train loss 2.9316, val loss 2.9493\n",
      "step 740: train loss 2.9285, val loss 2.9330\n",
      "step 750: train loss 2.9234, val loss 2.9339\n",
      "step 760: train loss 2.9162, val loss 2.9248\n",
      "step 770: train loss 2.9187, val loss 2.9181\n",
      "step 780: train loss 2.9115, val loss 2.9205\n",
      "step 790: train loss 2.8942, val loss 2.9025\n",
      "step 800: train loss 2.8972, val loss 2.9018\n",
      "step 810: train loss 2.8903, val loss 2.8967\n",
      "step 820: train loss 2.8834, val loss 2.8990\n",
      "step 830: train loss 2.8746, val loss 2.8904\n",
      "step 840: train loss 2.8735, val loss 2.8859\n",
      "step 850: train loss 2.8720, val loss 2.8866\n",
      "step 860: train loss 2.8616, val loss 2.8714\n",
      "step 870: train loss 2.8558, val loss 2.8720\n",
      "step 880: train loss 2.8444, val loss 2.8641\n",
      "step 890: train loss 2.8550, val loss 2.8738\n",
      "step 900: train loss 2.8467, val loss 2.8558\n",
      "step 910: train loss 2.8393, val loss 2.8489\n",
      "step 920: train loss 2.8313, val loss 2.8478\n",
      "step 930: train loss 2.8270, val loss 2.8433\n",
      "step 940: train loss 2.8228, val loss 2.8317\n",
      "step 950: train loss 2.8162, val loss 2.8402\n",
      "step 960: train loss 2.8166, val loss 2.8283\n",
      "step 970: train loss 2.8031, val loss 2.8178\n",
      "step 980: train loss 2.8054, val loss 2.8156\n",
      "step 990: train loss 2.8081, val loss 2.8255\n",
      "step 999: train loss 2.8048, val loss 2.8102\n"
     ]
    }
   ],
   "source": [
    "# Training\n",
    "train_loss = []\n",
    "eval_loss = []\n",
    "\n",
    "for iter in range(config_GPT.max_steps):\n",
    "\n",
    "    # Every once in a while evaluate the loss on train and val sets\n",
    "    if iter % config_GPT.eval_interval == 0 or iter == config_GPT.max_steps - 1:\n",
    "        losses = estimate_loss(config_GPT)\n",
    "        print(f\"step {iter}: train loss {losses['train']:.4f}, val loss {losses['val']:.4f}\")\n",
    "        train_loss.append(losses[\"train\"])\n",
    "        eval_loss.append(losses[\"val\"])\n",
    "\n",
    "    # Sample a batch of data\n",
    "    xb, yb = get_batch(train_data,config_GPT.block_size, config_GPT.batch_size, device = config_GPT.device)\n",
    "\n",
    "    # Evaluate the loss\n",
    "    logits, loss = model(xb, yb)\n",
    "    optimizer.zero_grad(set_to_none=True)\n",
    "    loss.backward()\n",
    "    optimizer.step()"
   ]
  },
  {
   "cell_type": "code",
   "execution_count": 10,
   "id": "a3d4f437",
   "metadata": {},
   "outputs": [
    {
     "data": {
      "image/png": "[encoded data removed]",
      "text/plain": [
       "<Figure size 640x480 with 1 Axes>"
      ]
     },
     "metadata": {},
     "output_type": "display_data"
    }
   ],
   "source": [
    "plt.plot(train_loss, color = \"blue\", label = \"train\")\n",
    "plt.plot(eval_loss, color = \"red\", label = \"test\")\n",
    "plt.legend()\n",
    "plt.title(\"Cross Entropy Loss Training LLM\")\n",
    "plt.show()"
   ]
  },
  {
   "cell_type": "code",
   "execution_count": 13,
   "id": "add8e905",
   "metadata": {},
   "outputs": [
    {
     "name": "stdout",
     "output_type": "stream",
     "text": [
      "A l'aube du soir\n",
      "Qu'est tout dans la trie.\n",
      "Lorres désade on chah si je ne me tourri\n",
      "Sans demande pu vient conmos, en larme bit tout courtix,\n",
      "Elà pour chose\n",
      "Crondure en on voit : je n'en baisse.\n",
      "Quand il pas\n",
      "Et mouriant, fille assemblait, moi,\n",
      "Et que je m'esséds de venir. Ah. Une choseau core et du tyroy ! touttes de mon ains\n",
      "De jette souffretir une imagandolière ambé,\n",
      "Lébanle à de ton\n"
     ]
    }
   ],
   "source": [
    "# Inference\n",
    "poemJS = \"A l'aube du soir\"\n",
    "ids = tokenizer.encode(poemJS) # Encode poem\n",
    "input_ids = torch.tensor([ids], dtype=torch.long).to(GPTConfig.device)\n",
    "generate_ids = model.generate(input_ids, max_new_tokens=200)\n",
    "generated_text = tokenizer.decode(generate_ids[0].tolist())\n",
    "print(generated_text)\n"
   ]
  },
  {
   "cell_type": "code",
   "execution_count": 15,
   "id": "9e401691",
   "metadata": {},
   "outputs": [
    {
     "name": "stdout",
     "output_type": "stream",
     "text": [
      "L'universé gres sHélas ! n'a qui parfâme\n",
      "Qu'homme, je j'ai suici, bien d'odeurs\n",
      "Le coeur et stossières en péris faste et fois en nethéant.\n",
      "Ils vainque, vue et vie au fond ;\n",
      "Cont un berceil es vieux, Signoir à la ficale belle-soieur de Dieu à moi, éternivrent méclies,\n",
      "Sur l'anglo de regarde, veux qui, des enfant d'aignéelles en grands bleus,\n",
      "Surtoutentne assion \n"
     ]
    }
   ],
   "source": [
    "# Inference\n",
    "poemJS = \"L'univers\"\n",
    "ids = tokenizer.encode(poemJS) # Encode poem\n",
    "input_ids = torch.tensor([ids], dtype=torch.long).to(GPTConfig.device)\n",
    "generate_ids = model.generate(input_ids, max_new_tokens=200)\n",
    "generated_text = tokenizer.decode(generate_ids[0].tolist())\n",
    "print(generated_text)\n"
   ]
  }
 ],
 "metadata": {
  "kernelspec": {
   "display_name": ".venv",
   "language": "python",
   "name": "python3"
  },
  "language_info": {
   "codemirror_mode": {
    "name": "ipython",
    "version": 3
   },
   "file_extension": ".py",
   "mimetype": "text/x-python",
   "name": "python",
   "nbconvert_exporter": "python",
   "pygments_lexer": "ipython3",
   "version": "3.12.2"
  }
 },
 "nbformat": 4,
 "nbformat_minor": 5
}
