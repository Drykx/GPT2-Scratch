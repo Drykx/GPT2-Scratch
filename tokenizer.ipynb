{
 "cells": [
  {
   "cell_type": "code",
   "execution_count": null,
   "id": "b7c19da9",
   "metadata": {},
   "outputs": [],
   "source": [
    "class BasicTokenizer():\n",
    "\n",
    "    def __int__(self):\n",
    "    \n",
    "    def train(self, text, vocab_size, verbose = False):\n",
    "\n",
    "    def encode(self,text):\n",
    "\n",
    "    def decode(self,ids):"
   ]
  }
 ],
 "metadata": {
  "language_info": {
   "name": "python"
  }
 },
 "nbformat": 4,
 "nbformat_minor": 5
}
